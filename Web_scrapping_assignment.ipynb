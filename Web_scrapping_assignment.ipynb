{
 "cells": [
  {
   "cell_type": "code",
   "execution_count": 1,
   "id": "115dcc37",
   "metadata": {},
   "outputs": [],
   "source": [
    "import pandas as pd\n",
    "import requests\n",
    "from bs4 import BeautifulSoup"
   ]
  },
  {
   "cell_type": "code",
   "execution_count": 2,
   "id": "66e2be96",
   "metadata": {},
   "outputs": [],
   "source": [
    "url = \"http://quotes.toscrape.com/page/1/\"\n",
    "\n",
    "# To find this response from google to find this html page or URL through our response"
   ]
  },
  {
   "cell_type": "code",
   "execution_count": 3,
   "id": "c8151517",
   "metadata": {},
   "outputs": [],
   "source": [
    "response = requests.get(url)\n",
    "\n",
    "# it will give us all response that server will return"
   ]
  },
  {
   "cell_type": "code",
   "execution_count": 4,
   "id": "59a86b7d",
   "metadata": {},
   "outputs": [],
   "source": [
    "response = response.content\n",
    "\n",
    "#Hence we don't want the entire web page and it will return all the data that is requested to server"
   ]
  },
  {
   "cell_type": "code",
   "execution_count": 5,
   "id": "1e5aceab",
   "metadata": {},
   "outputs": [],
   "source": [
    "soup = BeautifulSoup(response,\"html.parser\")\n",
    "\n",
    "#soup variable will contain all the content of data in a parsed way"
   ]
  },
  {
   "cell_type": "code",
   "execution_count": 7,
   "id": "4de1c0e5",
   "metadata": {},
   "outputs": [],
   "source": [
    "div = soup.find(\"div\")\n",
    "\n",
    "# This line of code is using the BeautifulSoup library to find the first div element in the HTML document \n",
    "# represented by the soup object."
   ]
  },
  {
   "cell_type": "code",
   "execution_count": 8,
   "id": "a35fb818",
   "metadata": {},
   "outputs": [
    {
     "name": "stdout",
     "output_type": "stream",
     "text": [
      "“The world as we have created it is a process of our thinking. It cannot be changed without changing our thinking.”\n",
      "“It is our choices, Harry, that show what we truly are, far more than our abilities.”\n",
      "“There are only two ways to live your life. One is as though nothing is a miracle. The other is as though everything is a miracle.”\n",
      "“The person, be it gentleman or lady, who has not pleasure in a good novel, must be intolerably stupid.”\n",
      "“Imperfection is beauty, madness is genius and it's better to be absolutely ridiculous than absolutely boring.”\n",
      "“Try not to become a man of success. Rather become a man of value.”\n",
      "“It is better to be hated for what you are than to be loved for what you are not.”\n",
      "“I have not failed. I've just found 10,000 ways that won't work.”\n",
      "“A woman is like a tea bag; you never know how strong it is until it's in hot water.”\n",
      "“A day without sunshine is like, you know, night.”\n"
     ]
    }
   ],
   "source": [
    "spans = div.find_all('div',class_=\"quote\")\n",
    "\n",
    "for span in spans:\n",
    "    quotation= span.find('span').text\n",
    "    print(quotation)\n",
    "    \n",
    "#extracts the text content of this span element using the text attribute, and assigns it to the variable quotation.    "
   ]
  },
  {
   "cell_type": "code",
   "execution_count": 9,
   "id": "f257b2eb",
   "metadata": {},
   "outputs": [
    {
     "name": "stdout",
     "output_type": "stream",
     "text": [
      "Albert-Einstein\n",
      "J-K-Rowling\n",
      "Albert-Einstein\n",
      "Jane-Austen\n",
      "Marilyn-Monroe\n",
      "Albert-Einstein\n",
      "Andre-Gide\n",
      "Thomas-A-Edison\n",
      "Eleanor-Roosevelt\n",
      "Steve-Martin\n"
     ]
    }
   ],
   "source": [
    "for span in spans:\n",
    "    authr= span.find('a')\n",
    "    authr=authr['href'][8:]\n",
    "    print(authr)\n",
    "    \n",
    "#printing the name of the author associated with each quote by extracting it from the hyperlink in the a element within each div."
   ]
  },
  {
   "cell_type": "code",
   "execution_count": 10,
   "id": "202ba9ba",
   "metadata": {},
   "outputs": [
    {
     "name": "stdout",
     "output_type": "stream",
     "text": [
      "change,deep-thoughts,thinking,world\n",
      "abilities,choices\n",
      "inspirational,life,live,miracle,miracles\n",
      "aliteracy,books,classic,humor\n",
      "be-yourself,inspirational\n",
      "adulthood,success,value\n",
      "life,love\n",
      "edison,failure,inspirational,paraphrased\n",
      "misattributed-eleanor-roosevelt\n",
      "humor,obvious,simile\n"
     ]
    }
   ],
   "source": [
    "for span in spans:\n",
    "    tag = span.find(\"meta\")\n",
    "    tag = tag[\"content\"]\n",
    "    print(tag)\n",
    "    \n",
    "#The code then extracts the content attribute of the meta element using tag[\"content\"], and assigns it to the variable tag."
   ]
  },
  {
   "cell_type": "code",
   "execution_count": 11,
   "id": "049143c3",
   "metadata": {},
   "outputs": [
    {
     "name": "stdout",
     "output_type": "stream",
     "text": [
      "[['“The world as we have created it is a process of our thinking. It cannot be changed without changing our thinking.”', 'Albert-Einstein', 'change,deep-thoughts,thinking,world'], ['“It is our choices, Harry, that show what we truly are, far more than our abilities.”', 'J-K-Rowling', 'abilities,choices'], ['“There are only two ways to live your life. One is as though nothing is a miracle. The other is as though everything is a miracle.”', 'Albert-Einstein', 'inspirational,life,live,miracle,miracles'], ['“The person, be it gentleman or lady, who has not pleasure in a good novel, must be intolerably stupid.”', 'Jane-Austen', 'aliteracy,books,classic,humor'], [\"“Imperfection is beauty, madness is genius and it's better to be absolutely ridiculous than absolutely boring.”\", 'Marilyn-Monroe', 'be-yourself,inspirational'], ['“Try not to become a man of success. Rather become a man of value.”', 'Albert-Einstein', 'adulthood,success,value'], ['“It is better to be hated for what you are than to be loved for what you are not.”', 'Andre-Gide', 'life,love'], [\"“I have not failed. I've just found 10,000 ways that won't work.”\", 'Thomas-A-Edison', 'edison,failure,inspirational,paraphrased'], [\"“A woman is like a tea bag; you never know how strong it is until it's in hot water.”\", 'Eleanor-Roosevelt', 'misattributed-eleanor-roosevelt'], ['“A day without sunshine is like, you know, night.”', 'Steve-Martin', 'humor,obvious,simile']]\n"
     ]
    }
   ],
   "source": [
    "spans = div.find_all('div',class_=\"quote\")\n",
    "content = []\n",
    "\n",
    "for span in spans:\n",
    "    quotation= span.find('span').text\n",
    "    authr= span.find('a')\n",
    "    authr=authr['href'][8:]\n",
    "    tag = span.find(\"meta\", class_=\"keywords\")\n",
    "    tag = tag[\"content\"]\n",
    "    content.append([quotation,authr,tag])\n",
    "print(content) \n",
    "\n",
    "# The resulting quotation, author, and tag strings are then appended to the content list as a new sublist using \n",
    "# content.append([quotation,authr,tag]). Finally, the entire content list is printed to the console using print(content)."
   ]
  },
  {
   "cell_type": "code",
   "execution_count": 12,
   "id": "986ecaf4",
   "metadata": {},
   "outputs": [
    {
     "name": "stdout",
     "output_type": "stream",
     "text": [
      "[['“The world as we have created it is a process of our thinking. It cannot be changed without changing our thinking.”', 'Albert-Einstein', 'change,deep-thoughts,thinking,world'], ['“It is our choices, Harry, that show what we truly are, far more than our abilities.”', 'J-K-Rowling', 'abilities,choices'], ['“There are only two ways to live your life. One is as though nothing is a miracle. The other is as though everything is a miracle.”', 'Albert-Einstein', 'inspirational,life,live,miracle,miracles'], ['“The person, be it gentleman or lady, who has not pleasure in a good novel, must be intolerably stupid.”', 'Jane-Austen', 'aliteracy,books,classic,humor'], [\"“Imperfection is beauty, madness is genius and it's better to be absolutely ridiculous than absolutely boring.”\", 'Marilyn-Monroe', 'be-yourself,inspirational'], ['“Try not to become a man of success. Rather become a man of value.”', 'Albert-Einstein', 'adulthood,success,value'], ['“It is better to be hated for what you are than to be loved for what you are not.”', 'Andre-Gide', 'life,love'], [\"“I have not failed. I've just found 10,000 ways that won't work.”\", 'Thomas-A-Edison', 'edison,failure,inspirational,paraphrased'], [\"“A woman is like a tea bag; you never know how strong it is until it's in hot water.”\", 'Eleanor-Roosevelt', 'misattributed-eleanor-roosevelt'], ['“A day without sunshine is like, you know, night.”', 'Steve-Martin', 'humor,obvious,simile'], ['“The world as we have created it is a process of our thinking. It cannot be changed without changing our thinking.”', 'Albert-Einstein', 'change,deep-thoughts,thinking,world'], ['“It is our choices, Harry, that show what we truly are, far more than our abilities.”', 'J-K-Rowling', 'abilities,choices'], ['“There are only two ways to live your life. One is as though nothing is a miracle. The other is as though everything is a miracle.”', 'Albert-Einstein', 'inspirational,life,live,miracle,miracles'], ['“The person, be it gentleman or lady, who has not pleasure in a good novel, must be intolerably stupid.”', 'Jane-Austen', 'aliteracy,books,classic,humor'], [\"“Imperfection is beauty, madness is genius and it's better to be absolutely ridiculous than absolutely boring.”\", 'Marilyn-Monroe', 'be-yourself,inspirational'], ['“Try not to become a man of success. Rather become a man of value.”', 'Albert-Einstein', 'adulthood,success,value'], ['“It is better to be hated for what you are than to be loved for what you are not.”', 'Andre-Gide', 'life,love'], [\"“I have not failed. I've just found 10,000 ways that won't work.”\", 'Thomas-A-Edison', 'edison,failure,inspirational,paraphrased'], [\"“A woman is like a tea bag; you never know how strong it is until it's in hot water.”\", 'Eleanor-Roosevelt', 'misattributed-eleanor-roosevelt'], ['“A day without sunshine is like, you know, night.”', 'Steve-Martin', 'humor,obvious,simile'], ['“The world as we have created it is a process of our thinking. It cannot be changed without changing our thinking.”', 'Albert-Einstein', 'change,deep-thoughts,thinking,world'], ['“It is our choices, Harry, that show what we truly are, far more than our abilities.”', 'J-K-Rowling', 'abilities,choices'], ['“There are only two ways to live your life. One is as though nothing is a miracle. The other is as though everything is a miracle.”', 'Albert-Einstein', 'inspirational,life,live,miracle,miracles'], ['“The person, be it gentleman or lady, who has not pleasure in a good novel, must be intolerably stupid.”', 'Jane-Austen', 'aliteracy,books,classic,humor'], [\"“Imperfection is beauty, madness is genius and it's better to be absolutely ridiculous than absolutely boring.”\", 'Marilyn-Monroe', 'be-yourself,inspirational'], ['“Try not to become a man of success. Rather become a man of value.”', 'Albert-Einstein', 'adulthood,success,value'], ['“It is better to be hated for what you are than to be loved for what you are not.”', 'Andre-Gide', 'life,love'], [\"“I have not failed. I've just found 10,000 ways that won't work.”\", 'Thomas-A-Edison', 'edison,failure,inspirational,paraphrased'], [\"“A woman is like a tea bag; you never know how strong it is until it's in hot water.”\", 'Eleanor-Roosevelt', 'misattributed-eleanor-roosevelt'], ['“A day without sunshine is like, you know, night.”', 'Steve-Martin', 'humor,obvious,simile'], ['“The world as we have created it is a process of our thinking. It cannot be changed without changing our thinking.”', 'Albert-Einstein', 'change,deep-thoughts,thinking,world'], ['“It is our choices, Harry, that show what we truly are, far more than our abilities.”', 'J-K-Rowling', 'abilities,choices'], ['“There are only two ways to live your life. One is as though nothing is a miracle. The other is as though everything is a miracle.”', 'Albert-Einstein', 'inspirational,life,live,miracle,miracles'], ['“The person, be it gentleman or lady, who has not pleasure in a good novel, must be intolerably stupid.”', 'Jane-Austen', 'aliteracy,books,classic,humor'], [\"“Imperfection is beauty, madness is genius and it's better to be absolutely ridiculous than absolutely boring.”\", 'Marilyn-Monroe', 'be-yourself,inspirational'], ['“Try not to become a man of success. Rather become a man of value.”', 'Albert-Einstein', 'adulthood,success,value'], ['“It is better to be hated for what you are than to be loved for what you are not.”', 'Andre-Gide', 'life,love'], [\"“I have not failed. I've just found 10,000 ways that won't work.”\", 'Thomas-A-Edison', 'edison,failure,inspirational,paraphrased'], [\"“A woman is like a tea bag; you never know how strong it is until it's in hot water.”\", 'Eleanor-Roosevelt', 'misattributed-eleanor-roosevelt'], ['“A day without sunshine is like, you know, night.”', 'Steve-Martin', 'humor,obvious,simile'], ['“The world as we have created it is a process of our thinking. It cannot be changed without changing our thinking.”', 'Albert-Einstein', 'change,deep-thoughts,thinking,world'], ['“It is our choices, Harry, that show what we truly are, far more than our abilities.”', 'J-K-Rowling', 'abilities,choices'], ['“There are only two ways to live your life. One is as though nothing is a miracle. The other is as though everything is a miracle.”', 'Albert-Einstein', 'inspirational,life,live,miracle,miracles'], ['“The person, be it gentleman or lady, who has not pleasure in a good novel, must be intolerably stupid.”', 'Jane-Austen', 'aliteracy,books,classic,humor'], [\"“Imperfection is beauty, madness is genius and it's better to be absolutely ridiculous than absolutely boring.”\", 'Marilyn-Monroe', 'be-yourself,inspirational'], ['“Try not to become a man of success. Rather become a man of value.”', 'Albert-Einstein', 'adulthood,success,value'], ['“It is better to be hated for what you are than to be loved for what you are not.”', 'Andre-Gide', 'life,love'], [\"“I have not failed. I've just found 10,000 ways that won't work.”\", 'Thomas-A-Edison', 'edison,failure,inspirational,paraphrased'], [\"“A woman is like a tea bag; you never know how strong it is until it's in hot water.”\", 'Eleanor-Roosevelt', 'misattributed-eleanor-roosevelt'], ['“A day without sunshine is like, you know, night.”', 'Steve-Martin', 'humor,obvious,simile'], ['“The world as we have created it is a process of our thinking. It cannot be changed without changing our thinking.”', 'Albert-Einstein', 'change,deep-thoughts,thinking,world'], ['“It is our choices, Harry, that show what we truly are, far more than our abilities.”', 'J-K-Rowling', 'abilities,choices'], ['“There are only two ways to live your life. One is as though nothing is a miracle. The other is as though everything is a miracle.”', 'Albert-Einstein', 'inspirational,life,live,miracle,miracles'], ['“The person, be it gentleman or lady, who has not pleasure in a good novel, must be intolerably stupid.”', 'Jane-Austen', 'aliteracy,books,classic,humor'], [\"“Imperfection is beauty, madness is genius and it's better to be absolutely ridiculous than absolutely boring.”\", 'Marilyn-Monroe', 'be-yourself,inspirational'], ['“Try not to become a man of success. Rather become a man of value.”', 'Albert-Einstein', 'adulthood,success,value'], ['“It is better to be hated for what you are than to be loved for what you are not.”', 'Andre-Gide', 'life,love'], [\"“I have not failed. I've just found 10,000 ways that won't work.”\", 'Thomas-A-Edison', 'edison,failure,inspirational,paraphrased'], [\"“A woman is like a tea bag; you never know how strong it is until it's in hot water.”\", 'Eleanor-Roosevelt', 'misattributed-eleanor-roosevelt'], ['“A day without sunshine is like, you know, night.”', 'Steve-Martin', 'humor,obvious,simile'], ['“The world as we have created it is a process of our thinking. It cannot be changed without changing our thinking.”', 'Albert-Einstein', 'change,deep-thoughts,thinking,world'], ['“It is our choices, Harry, that show what we truly are, far more than our abilities.”', 'J-K-Rowling', 'abilities,choices'], ['“There are only two ways to live your life. One is as though nothing is a miracle. The other is as though everything is a miracle.”', 'Albert-Einstein', 'inspirational,life,live,miracle,miracles'], ['“The person, be it gentleman or lady, who has not pleasure in a good novel, must be intolerably stupid.”', 'Jane-Austen', 'aliteracy,books,classic,humor'], [\"“Imperfection is beauty, madness is genius and it's better to be absolutely ridiculous than absolutely boring.”\", 'Marilyn-Monroe', 'be-yourself,inspirational'], ['“Try not to become a man of success. Rather become a man of value.”', 'Albert-Einstein', 'adulthood,success,value'], ['“It is better to be hated for what you are than to be loved for what you are not.”', 'Andre-Gide', 'life,love'], [\"“I have not failed. I've just found 10,000 ways that won't work.”\", 'Thomas-A-Edison', 'edison,failure,inspirational,paraphrased'], [\"“A woman is like a tea bag; you never know how strong it is until it's in hot water.”\", 'Eleanor-Roosevelt', 'misattributed-eleanor-roosevelt'], ['“A day without sunshine is like, you know, night.”', 'Steve-Martin', 'humor,obvious,simile'], ['“The world as we have created it is a process of our thinking. It cannot be changed without changing our thinking.”', 'Albert-Einstein', 'change,deep-thoughts,thinking,world'], ['“It is our choices, Harry, that show what we truly are, far more than our abilities.”', 'J-K-Rowling', 'abilities,choices'], ['“There are only two ways to live your life. One is as though nothing is a miracle. The other is as though everything is a miracle.”', 'Albert-Einstein', 'inspirational,life,live,miracle,miracles'], ['“The person, be it gentleman or lady, who has not pleasure in a good novel, must be intolerably stupid.”', 'Jane-Austen', 'aliteracy,books,classic,humor'], [\"“Imperfection is beauty, madness is genius and it's better to be absolutely ridiculous than absolutely boring.”\", 'Marilyn-Monroe', 'be-yourself,inspirational'], ['“Try not to become a man of success. Rather become a man of value.”', 'Albert-Einstein', 'adulthood,success,value'], ['“It is better to be hated for what you are than to be loved for what you are not.”', 'Andre-Gide', 'life,love'], [\"“I have not failed. I've just found 10,000 ways that won't work.”\", 'Thomas-A-Edison', 'edison,failure,inspirational,paraphrased'], [\"“A woman is like a tea bag; you never know how strong it is until it's in hot water.”\", 'Eleanor-Roosevelt', 'misattributed-eleanor-roosevelt'], ['“A day without sunshine is like, you know, night.”', 'Steve-Martin', 'humor,obvious,simile'], ['“The world as we have created it is a process of our thinking. It cannot be changed without changing our thinking.”', 'Albert-Einstein', 'change,deep-thoughts,thinking,world'], ['“It is our choices, Harry, that show what we truly are, far more than our abilities.”', 'J-K-Rowling', 'abilities,choices'], ['“There are only two ways to live your life. One is as though nothing is a miracle. The other is as though everything is a miracle.”', 'Albert-Einstein', 'inspirational,life,live,miracle,miracles'], ['“The person, be it gentleman or lady, who has not pleasure in a good novel, must be intolerably stupid.”', 'Jane-Austen', 'aliteracy,books,classic,humor'], [\"“Imperfection is beauty, madness is genius and it's better to be absolutely ridiculous than absolutely boring.”\", 'Marilyn-Monroe', 'be-yourself,inspirational'], ['“Try not to become a man of success. Rather become a man of value.”', 'Albert-Einstein', 'adulthood,success,value'], ['“It is better to be hated for what you are than to be loved for what you are not.”', 'Andre-Gide', 'life,love'], [\"“I have not failed. I've just found 10,000 ways that won't work.”\", 'Thomas-A-Edison', 'edison,failure,inspirational,paraphrased'], [\"“A woman is like a tea bag; you never know how strong it is until it's in hot water.”\", 'Eleanor-Roosevelt', 'misattributed-eleanor-roosevelt'], ['“A day without sunshine is like, you know, night.”', 'Steve-Martin', 'humor,obvious,simile']]\n"
     ]
    }
   ],
   "source": [
    "content = []\n",
    "\n",
    "for i in range(1,10):\n",
    "    url = f\"http://quotes.toscrape.com/page-{i}.html\"\n",
    "    response = requests.get(url)\n",
    "    response = response.content\n",
    "    soup = BeautifulSoup(response,\"html.parser\")\n",
    "    div = soup.find(\"div\")\n",
    "#     spans = div.find_all('div',class_='quote')\n",
    "\n",
    "    for span in spans:\n",
    "        quotation= span.find('span').text\n",
    "        authr= span.find('a')\n",
    "        authr=authr['href'][8:]\n",
    "        tag = span.find(\"meta\", class_=\"keywords\")\n",
    "        tag = tag[\"content\"]\n",
    "        content.append([quotation,authr,tag])\n",
    "    \n",
    "    \n",
    "print(content)   \n",
    "\n",
    "#A for loop is set up to iterate over the range from 1 to 10 (excluding 10), using the variable i as the page number.\n",
    "#Overall, this code scrapes quotes, authors, and metadata from multiple pages of the website and stores them in a list for further use or analysis."
   ]
  },
  {
   "cell_type": "code",
   "execution_count": 13,
   "id": "e24c7d9f",
   "metadata": {},
   "outputs": [
    {
     "data": {
      "text/html": [
       "<div>\n",
       "<style scoped>\n",
       "    .dataframe tbody tr th:only-of-type {\n",
       "        vertical-align: middle;\n",
       "    }\n",
       "\n",
       "    .dataframe tbody tr th {\n",
       "        vertical-align: top;\n",
       "    }\n",
       "\n",
       "    .dataframe thead th {\n",
       "        text-align: right;\n",
       "    }\n",
       "</style>\n",
       "<table border=\"1\" class=\"dataframe\">\n",
       "  <thead>\n",
       "    <tr style=\"text-align: right;\">\n",
       "      <th></th>\n",
       "      <th>Quotation</th>\n",
       "      <th>Author</th>\n",
       "      <th>Tag</th>\n",
       "    </tr>\n",
       "  </thead>\n",
       "  <tbody>\n",
       "    <tr>\n",
       "      <th>0</th>\n",
       "      <td>“The world as we have created it is a process ...</td>\n",
       "      <td>Albert-Einstein</td>\n",
       "      <td>change,deep-thoughts,thinking,world</td>\n",
       "    </tr>\n",
       "    <tr>\n",
       "      <th>1</th>\n",
       "      <td>“It is our choices, Harry, that show what we t...</td>\n",
       "      <td>J-K-Rowling</td>\n",
       "      <td>abilities,choices</td>\n",
       "    </tr>\n",
       "    <tr>\n",
       "      <th>2</th>\n",
       "      <td>“There are only two ways to live your life. On...</td>\n",
       "      <td>Albert-Einstein</td>\n",
       "      <td>inspirational,life,live,miracle,miracles</td>\n",
       "    </tr>\n",
       "    <tr>\n",
       "      <th>3</th>\n",
       "      <td>“The person, be it gentleman or lady, who has ...</td>\n",
       "      <td>Jane-Austen</td>\n",
       "      <td>aliteracy,books,classic,humor</td>\n",
       "    </tr>\n",
       "    <tr>\n",
       "      <th>4</th>\n",
       "      <td>“Imperfection is beauty, madness is genius and...</td>\n",
       "      <td>Marilyn-Monroe</td>\n",
       "      <td>be-yourself,inspirational</td>\n",
       "    </tr>\n",
       "    <tr>\n",
       "      <th>...</th>\n",
       "      <td>...</td>\n",
       "      <td>...</td>\n",
       "      <td>...</td>\n",
       "    </tr>\n",
       "    <tr>\n",
       "      <th>85</th>\n",
       "      <td>“Try not to become a man of success. Rather be...</td>\n",
       "      <td>Albert-Einstein</td>\n",
       "      <td>adulthood,success,value</td>\n",
       "    </tr>\n",
       "    <tr>\n",
       "      <th>86</th>\n",
       "      <td>“It is better to be hated for what you are tha...</td>\n",
       "      <td>Andre-Gide</td>\n",
       "      <td>life,love</td>\n",
       "    </tr>\n",
       "    <tr>\n",
       "      <th>87</th>\n",
       "      <td>“I have not failed. I've just found 10,000 way...</td>\n",
       "      <td>Thomas-A-Edison</td>\n",
       "      <td>edison,failure,inspirational,paraphrased</td>\n",
       "    </tr>\n",
       "    <tr>\n",
       "      <th>88</th>\n",
       "      <td>“A woman is like a tea bag; you never know how...</td>\n",
       "      <td>Eleanor-Roosevelt</td>\n",
       "      <td>misattributed-eleanor-roosevelt</td>\n",
       "    </tr>\n",
       "    <tr>\n",
       "      <th>89</th>\n",
       "      <td>“A day without sunshine is like, you know, nig...</td>\n",
       "      <td>Steve-Martin</td>\n",
       "      <td>humor,obvious,simile</td>\n",
       "    </tr>\n",
       "  </tbody>\n",
       "</table>\n",
       "<p>90 rows × 3 columns</p>\n",
       "</div>"
      ],
      "text/plain": [
       "                                            Quotation             Author  \\\n",
       "0   “The world as we have created it is a process ...    Albert-Einstein   \n",
       "1   “It is our choices, Harry, that show what we t...        J-K-Rowling   \n",
       "2   “There are only two ways to live your life. On...    Albert-Einstein   \n",
       "3   “The person, be it gentleman or lady, who has ...        Jane-Austen   \n",
       "4   “Imperfection is beauty, madness is genius and...     Marilyn-Monroe   \n",
       "..                                                ...                ...   \n",
       "85  “Try not to become a man of success. Rather be...    Albert-Einstein   \n",
       "86  “It is better to be hated for what you are tha...         Andre-Gide   \n",
       "87  “I have not failed. I've just found 10,000 way...    Thomas-A-Edison   \n",
       "88  “A woman is like a tea bag; you never know how...  Eleanor-Roosevelt   \n",
       "89  “A day without sunshine is like, you know, nig...       Steve-Martin   \n",
       "\n",
       "                                         Tag  \n",
       "0        change,deep-thoughts,thinking,world  \n",
       "1                          abilities,choices  \n",
       "2   inspirational,life,live,miracle,miracles  \n",
       "3              aliteracy,books,classic,humor  \n",
       "4                  be-yourself,inspirational  \n",
       "..                                       ...  \n",
       "85                   adulthood,success,value  \n",
       "86                                 life,love  \n",
       "87  edison,failure,inspirational,paraphrased  \n",
       "88           misattributed-eleanor-roosevelt  \n",
       "89                      humor,obvious,simile  \n",
       "\n",
       "[90 rows x 3 columns]"
      ]
     },
     "execution_count": 13,
     "metadata": {},
     "output_type": "execute_result"
    }
   ],
   "source": [
    "df = pd.DataFrame(content,columns=[\"Quotation\",\"Author\",\"Tag\"])\n",
    "df\n",
    "\n",
    "#By calling pd.DataFrame(content, columns=[\"Quotation\",\"Author\",\"Tag\"]), the code creates a DataFrame where each sublist from the \n",
    "#content list becomes a row in the DataFrame, with the corresponding elements being assigned to the specified column names."
   ]
  },
  {
   "cell_type": "code",
   "execution_count": 24,
   "id": "4c1454db",
   "metadata": {},
   "outputs": [],
   "source": [
    "df.to_csv('C:\\\\Users\\\\ptt920460\\\\Downloads\\\\quotations.csv', index=True)"
   ]
  },
  {
   "cell_type": "code",
   "execution_count": null,
   "id": "baca426e",
   "metadata": {},
   "outputs": [],
   "source": []
  }
 ],
 "metadata": {
  "kernelspec": {
   "display_name": "Python 3 (ipykernel)",
   "language": "python",
   "name": "python3"
  },
  "language_info": {
   "codemirror_mode": {
    "name": "ipython",
    "version": 3
   },
   "file_extension": ".py",
   "mimetype": "text/x-python",
   "name": "python",
   "nbconvert_exporter": "python",
   "pygments_lexer": "ipython3",
   "version": "3.9.12"
  }
 },
 "nbformat": 4,
 "nbformat_minor": 5
}
